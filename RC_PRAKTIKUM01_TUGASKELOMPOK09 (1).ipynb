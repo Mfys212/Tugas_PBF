{
  "cells": [
    {
      "attachments": {},
      "cell_type": "markdown",
      "metadata": {
        "id": "php_WubGES3f"
      },
      "source": [
        "# 1. Buatlah fungsi komposisi dengan nilai $f(x)=4^x, g(x)=x^x$ dan $h(x)=3+x$ dengan pemrograman prosedural tiga fungsi dan pemrograman fungsional dengan lamda"
      ]
    },
    {
      "cell_type": "code",
      "execution_count": 18,
      "metadata": {
        "colab": {
          "base_uri": "https://localhost:8080/"
        },
        "id": "MdwrUoNoC4Jg",
        "outputId": "42de7b44-4f77-4d33-a7e2-a2173105dc66"
      },
      "outputs": [
        {
          "data": {
            "text/plain": [
              "256"
            ]
          },
          "execution_count": 18,
          "metadata": {},
          "output_type": "execute_result"
        }
      ],
      "source": [
        "# prosedural\n",
        "def f(x):\n",
        "  return 4**x\n",
        "def g(x):\n",
        "  return x**x\n",
        "def h(x):\n",
        "  return 3+x\n",
        "\n",
        "f(4)"
      ]
    },
    {
      "cell_type": "code",
      "execution_count": 19,
      "metadata": {
        "colab": {
          "base_uri": "https://localhost:8080/"
        },
        "id": "CdtyNbKYJ92d",
        "outputId": "954f30d4-5d90-4647-b2de-2f59edba0387"
      },
      "outputs": [
        {
          "data": {
            "text/plain": [
              "256"
            ]
          },
          "execution_count": 19,
          "metadata": {},
          "output_type": "execute_result"
        }
      ],
      "source": [
        "# fungsional\n",
        "f = lambda x : 4**x\n",
        "g = lambda x : x**x\n",
        "h = lambda x : 3+x\n",
        "\n",
        "f(4)"
      ]
    },
    {
      "attachments": {},
      "cell_type": "markdown",
      "metadata": {
        "id": "rwifQUJwKQ-O"
      },
      "source": [
        "# 2. Buatlah pemrograman berbasis objek pada soal no.1"
      ]
    },
    {
      "cell_type": "code",
      "execution_count": 20,
      "metadata": {
        "colab": {
          "base_uri": "https://localhost:8080/"
        },
        "id": "p7QyEoSuUUA9",
        "outputId": "4c06eb97-deb4-40d3-a882-4236805f07b2"
      },
      "outputs": [
        {
          "data": {
            "text/plain": [
              "256"
            ]
          },
          "execution_count": 20,
          "metadata": {},
          "output_type": "execute_result"
        }
      ],
      "source": [
        "# OOP\n",
        "class Fungsi():\n",
        "  def f(self, x):\n",
        "    return 4**x\n",
        "  def g(self, x):\n",
        "    return x**x\n",
        "  def h(self, x):\n",
        "    return 3+x\n",
        "\n",
        "compute = Fungsi()\n",
        "compute.f(4)"
      ]
    },
    {
      "attachments": {},
      "cell_type": "markdown",
      "metadata": {
        "id": "2cSB4rx3XCmr"
      },
      "source": [
        "# 3. Berikan Analisis Komparasi soal 1 dan 2"
      ]
    },
    {
      "cell_type": "markdown",
      "metadata": {
        "id": "gH4sWn5LYPqb"
      },
      "source": [
        "<table>\n",
        "        <tr>\n",
        "            <th bgcolor=\"green\">Soal 1</th>\n",
        "            <th bgcolor=\"green\">Soal 2</th>\n",
        "        </tr>\n",
        "        <tr>\n",
        "            <td>Memanggil fungsi secara langsung</td>\n",
        "            <td>Memanggil fungsi harus mengdeklarasikan objek ke nama class</td>\n",
        "        </tr>\n",
        "        <tr>\n",
        "            <td>Lambda otomatis mengembalikan nilai berbeda dengan prosedural</td>\n",
        "            <td>OOP sama dengan prosedural menggunakan return untuk mengembalikan nilai fungsi</td>\n",
        "        </tr>\n",
        "        <tr>\n",
        "            <td>Blok kode yang lebih sedikit terlebih lagi lambda</td>\n",
        "            <td>Blok kode yang lebih banyak</td>\n",
        "        </tr>\n",
        "         <tr>\n",
        "            <td>Lambda tidak ada nama, harus di deklarasi ke variable untuk memanggilnya</td>\n",
        "            <td>Pembuatan fungsi dengan def langsung dengan nama fungsi</td>\n",
        "        </tr>\n",
        "</table>"
      ]
    },
    {
      "attachments": {},
      "cell_type": "markdown",
      "metadata": {
        "id": "-OtMFUXldyDQ"
      },
      "source": [
        "# 4. Buatlah satu penyelesaian Luas Segitiga dengan menggunakan Pemrograman berorientasi Objek dan Pemrograman berbasis Fungsi. uji dengan membandingkan mana yang tercepat komputasinya."
      ]
    },
    {
      "cell_type": "code",
      "execution_count": 122,
      "metadata": {
        "colab": {
          "base_uri": "https://localhost:8080/"
        },
        "id": "hDNfa95Ufwyu",
        "outputId": "fac2bdcd-da00-40c6-8f75-622cf7626361"
      },
      "outputs": [
        {
          "name": "stdout",
          "output_type": "stream",
          "text": [
            "Kecepatan komputasi =  0.0002884864807128906\n"
          ]
        }
      ],
      "source": [
        "# OOP\n",
        "import time\n",
        "start = time.time()\n",
        "class Segitiga():\n",
        "  def __init__(self, alas, tinggi):\n",
        "    self.alas = alas\n",
        "    self.tinggi = tinggi\n",
        "  def luas(self):\n",
        "    return (self.alas * self.tinggi)/2\n",
        "\n",
        "hitung = Segitiga(4, 5)\n",
        "hitung.luas()\n",
        "end = time.time()\n",
        "print(\"Kecepatan komputasi = \", end-start)"
      ]
    },
    {
      "cell_type": "code",
      "execution_count": 123,
      "metadata": {
        "colab": {
          "base_uri": "https://localhost:8080/"
        },
        "id": "tkdjkODigxXf",
        "outputId": "7ffa6bfd-fdc3-4b96-fe6f-763fa56d910c"
      },
      "outputs": [
        {
          "name": "stdout",
          "output_type": "stream",
          "text": [
            "Kecepatan komputasi =  0.00013828277587890625\n"
          ]
        }
      ],
      "source": [
        "# Fungsional\n",
        "start = time.time()\n",
        "Segitiga = lambda alas, tinggi : (alas * tinggi)/2\n",
        "Segitiga(4, 5)\n",
        "end = time.time()\n",
        "print(\"Kecepatan komputasi = \", end-start)"
      ]
    },
    {
      "attachments": {},
      "cell_type": "markdown",
      "metadata": {
        "id": "ukAN9LQbwUmd"
      },
      "source": [
        "### Berdasarkan hasil perhitungan kecepatan eksikusi fungsional lebih cepat dibandingkan OOP"
      ]
    },
    {
      "attachments": {},
      "cell_type": "markdown",
      "metadata": {
        "id": "dOPCx01MhUkH"
      },
      "source": [
        "# 5. Diberikan Algoritma Metode Bisection berikut:\n",
        "1. Start\n",
        "2. Define function $f(x)$\n",
        "3. Choose initial guesses x0 and x1 such that $f(x0)f(x1) < 0$\n",
        "4. Choose pre-specified tolerable error e.\n",
        "5. Calculate new approximated root as $x2 = (x0 + x1)/2$\n",
        "6. Calculate $f(x0)f(x2)$\n",
        "  - if $f(x0)f(x2) < 0$ then $x0 = x0$ and $x1 = x2$\n",
        "  - if $f(x0)f(x2) > 0$ then $x0 = x2$ and $x1 = x1$\n",
        "  - if $f(x0)f(x2) = 0$ then goto (8)\n",
        "7. if $|f(x2)|$ > e then goto (5) otherwise goto (8)\n",
        "8. Display x2 as root.\n",
        "9. Stop\n",
        "\n",
        "### Buatlah prosedural programming dari persoalan di atas dan ubahlah dengan functional programming. lakukan dengan batas toleransi $10^{-5}$ dengan fungsi yang diberikan sebagai berikut: $x-2^{-x}$ dan nilai a dan b adalah antara 0 dan 1 (nilai antara tidak boleh 0 dan 1)"
      ]
    },
    {
      "cell_type": "code",
      "execution_count": 135,
      "metadata": {
        "colab": {
          "base_uri": "https://localhost:8080/"
        },
        "id": "2r4-VApZhL59",
        "outputId": "04492a0e-d112-4ed6-9afb-b26aa6bc0bc8"
      },
      "outputs": [
        {
          "data": {
            "text/plain": [
              "0.6411849975585939"
            ]
          },
          "execution_count": 135,
          "metadata": {},
          "output_type": "execute_result"
        }
      ],
      "source": [
        "# Prosedural\n",
        "def f(x):\n",
        "  return x-2**(-x)\n",
        "x0 = 0.2\n",
        "x1 = 0.9\n",
        "tol = 10**(-5)\n",
        "while True:\n",
        "  x2 = (x0 + x1)/2\n",
        "  if f(x0)*f(x2) < 0:\n",
        "    x0 = x0\n",
        "    x1 = x2\n",
        "  elif f(x0)*f(x2) > 0:\n",
        "    x0 = x2\n",
        "    x1 = x1\n",
        "  elif f(x0)*f(x2) == 0:\n",
        "    break\n",
        "\n",
        "  if abs(f(x2)) < tol:\n",
        "    break\n",
        "    \n",
        "x2"
      ]
    },
    {
      "cell_type": "code",
      "execution_count": 136,
      "metadata": {
        "colab": {
          "base_uri": "https://localhost:8080/"
        },
        "id": "hobM_TFu9VPH",
        "outputId": "cb0c0a5b-b1a2-4b39-ceaa-e6c43731d707"
      },
      "outputs": [
        {
          "data": {
            "text/plain": [
              "0.6411849975585939"
            ]
          },
          "execution_count": 136,
          "metadata": {},
          "output_type": "execute_result"
        }
      ],
      "source": [
        "# Fungsional\n",
        "def bisection(f, x0, x1, tol):\n",
        "  x2 = (x0 + x1)/2\n",
        "  if abs(f(x2)) < tol or f(x0)*f(x2) == 0:\n",
        "    return x2\n",
        "  elif f(x0)*f(x2) < 0:\n",
        "    return bisection(f, x0, x2, tol)\n",
        "  elif f(x0)*f(x2) > 0:\n",
        "    return bisection(f, x2, x1, tol)\n",
        "\n",
        "f = lambda x : x-2**(-x)\n",
        "x0 = 0.2\n",
        "x1 = 0.9\n",
        "tol = 10**(-5)\n",
        "bisection(f, x0, x1, tol)"
      ]
    }
  ],
  "metadata": {
    "colab": {
      "provenance": []
    },
    "kernelspec": {
      "display_name": "Python 3",
      "name": "python3"
    },
    "language_info": {
      "name": "python"
    }
  },
  "nbformat": 4,
  "nbformat_minor": 0
}
