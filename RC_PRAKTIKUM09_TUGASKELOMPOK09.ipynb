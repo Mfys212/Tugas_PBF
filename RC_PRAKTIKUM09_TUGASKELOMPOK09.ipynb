{
  "nbformat": 4,
  "nbformat_minor": 0,
  "metadata": {
    "colab": {
      "provenance": []
    },
    "kernelspec": {
      "name": "python3",
      "display_name": "Python 3"
    },
    "language_info": {
      "name": "python"
    }
  },
  "cells": [
    {
      "cell_type": "markdown",
      "source": [
        "# TUGAS KELOMPOK PRAKTIKUM PEMROGRAMAN BERBASIS FUNGSI\n",
        "---\n",
        ">Anggota Kelompok 9\n",
        "---\n",
        "1.121450020 MARSHANDA PUTRI PRASETYA \\\n",
        "2.121450053 RAHMAT PUTRA AJI \\\n",
        "3.121450098 Muhammad Fathir Fadillah\\ \n",
        "4.121450125 MIFTAHUL HUDA \\\n",
        "5.121450149 YOSIA LETARE BANUREA\\ \n",
        "6.121450152 Lulu Christin Sihombing\n",
        "---"
      ],
      "metadata": {
        "id": "64kRQRmuodle"
      }
    },
    {
      "cell_type": "markdown",
      "source": [
        "#  SOAL\n",
        "\n",
        "Building Relay Teams From Swimmer Data\n",
        "\n",
        "you will read data from a CSV file containing swimming event times for a community swim team from all of the swim meets over the course of a season. The goal is to determine which swimmers should be in the relay teams for each stroke next season.\n",
        "\n",
        "Each stroke should have an “A” and a “B” relay team with four swimmers each. The “A” team should contain the four swimmers with the best times for the stroke and the “B” team the swimmers with the next four best times.\n",
        "\n",
        "The data for this example can be found here:"
      ],
      "metadata": {
        "id": "UByltVhJpJXg"
      }
    },
    {
      "cell_type": "code",
      "source": [
        "#Impor library\n",
        "import pandas as pd"
      ],
      "metadata": {
        "id": "U7rjQZcopGFt"
      },
      "execution_count": 24,
      "outputs": []
    },
    {
      "cell_type": "code",
      "source": [
        "df = pd.read_csv(\"/content/swimmers.csv\")"
      ],
      "metadata": {
        "id": "wEnZD4izo9MH"
      },
      "execution_count": 25,
      "outputs": []
    },
    {
      "cell_type": "code",
      "source": [
        "#split data\n",
        "butterfly_df = df[swim_data['Stroke'] == 'butterfly']\n",
        "breaststroke_df = df[swim_data['Stroke'] == 'breaststroke']\n",
        "freestyle_df = df[swim_data['Stroke'] == 'freestyle']\n",
        "backstroke_df = df[swim_data['Stroke'] == 'backstroke']"
      ],
      "metadata": {
        "id": "kQpJRTQVo7Wv"
      },
      "execution_count": 26,
      "outputs": []
    },
    {
      "cell_type": "code",
      "source": [
        "#mengurutkan df jenis perlombaan berdasarkan waktu\n",
        "backstroke_df = backstroke_df.sort_values(by=['Time1', 'Time2', 'Time3'])\n",
        "butterfly_df = butterfly_df.sort_values(by=['Time1', 'Time2', 'Time3'])\n",
        "freestyle_df = freestyle_df.sort_values(by=['Time1', 'Time2', 'Time3'])\n",
        "breaststroke_df = breaststroke_df.sort_values(by=['Time1', 'Time2', 'Time3'])"
      ],
      "metadata": {
        "id": "eNU1EXG6r0Iq"
      },
      "execution_count": 27,
      "outputs": []
    },
    {
      "cell_type": "code",
      "source": [
        "# Empat pemain terbaik  berdasarkan waktu tercepat ke dalam kelompok a (bersama waktu pertama sampai ke tiga juga)\n",
        "#Indeks dengan .iloc mengambil indeks ke-0 sampai ke 3\n",
        "freestyle_a= freestyle_df.iloc[:4][['Name', 'Time1', 'Time2', 'Time3']]\n",
        "backstroke_a = backstroke_df.iloc[:4][['Name', 'Time1', 'Time2', 'Time3']]\n",
        "butterfly_a= butterfly_df.iloc[:4][['Name', 'Time1', 'Time2', 'Time3']]\n",
        "breaststroke_a = breaststroke_df.iloc[:4][['Name', 'Time1', 'Time2', 'Time3']]"
      ],
      "metadata": {
        "id": "PiIf_scFsfaO"
      },
      "execution_count": 28,
      "outputs": []
    },
    {
      "cell_type": "code",
      "source": [
        "# Empat perenang selanjutnya dimasukkan ke kelompok b\n",
        "#Indeks dengan .iloc mengambil indeks ke-4 sampai ke 7\n",
        "freestyle_b = freestyle_df.iloc[4:8][['Name', 'Time1', 'Time2', 'Time3']]\n",
        "backstroke_b = backstroke_df.iloc[4:8][['Name', 'Time1', 'Time2', 'Time3']]\n",
        "butterfly_b = butterfly_df.iloc[4:8][['Name', 'Time1', 'Time2', 'Time3']]\n",
        "breaststroke_b = breaststroke_df.iloc[4:8][['Name', 'Time1', 'Time2', 'Time3']]"
      ],
      "metadata": {
        "id": "SMzluFdUs5Q8"
      },
      "execution_count": 29,
      "outputs": []
    },
    {
      "cell_type": "code",
      "source": [
        "# Tim a dan b setelah dipisahkan akan disimpan ke dalam datframe baru\n",
        "team = pd.DataFrame({\n",
        "    'Perlombaan': ['freestyle', 'freestyle', 'backstroke', 'backstroke', 'butterfly', 'butterfly', 'breaststroke', 'breaststroke'],\n",
        "    'a': [freestyle_a, backstroke_a, butterfly_a, breaststroke_a, [], [], [], []],\n",
        "    'b': [freestyle_b, backstroke_b, butterfly_b, breaststroke_b, [], [], [], []],\n",
        "})"
      ],
      "metadata": {
        "id": "HJuMbOKrtkf-"
      },
      "execution_count": 31,
      "outputs": []
    },
    {
      "cell_type": "code",
      "source": [
        "#menjadikan dataframe tersebut menjadi sebuah format yang bisa dibaca excel\n",
        "team.to_csv('TimPerlombaan', index=False)"
      ],
      "metadata": {
        "colab": {
          "base_uri": "https://localhost:8080/",
          "height": 300
        },
        "id": "SfqXUkreuDHJ",
        "outputId": "36af5315-7327-41e4-81a5-89f7b88561b9"
      },
      "execution_count": 36,
      "outputs": [
        {
          "output_type": "execute_result",
          "data": {
            "text/plain": [
              "     Perlombaan                                                  a  \\\n",
              "0     freestyle          Name         Time1         Time2      ...   \n",
              "1     freestyle          Name         Time1         Time2      ...   \n",
              "2    backstroke            Name         Time1         Time2    ...   \n",
              "3    backstroke           Name         Time1         Time2     ...   \n",
              "4     butterfly                                                 []   \n",
              "5     butterfly                                                 []   \n",
              "6  breaststroke                                                 []   \n",
              "7  breaststroke                                                 []   \n",
              "\n",
              "                                                   b  \n",
              "0             Name         Time1         Time2   ...  \n",
              "1           Name         Time1         Time2     ...  \n",
              "2         Name         Time1         Time2       ...  \n",
              "3            Name         Time1         Time2    ...  \n",
              "4                                                 []  \n",
              "5                                                 []  \n",
              "6                                                 []  \n",
              "7                                                 []  "
            ],
            "text/html": [
              "\n",
              "  <div id=\"df-cdca615e-3cd6-4019-8aea-5e13a23056ac\">\n",
              "    <div class=\"colab-df-container\">\n",
              "      <div>\n",
              "<style scoped>\n",
              "    .dataframe tbody tr th:only-of-type {\n",
              "        vertical-align: middle;\n",
              "    }\n",
              "\n",
              "    .dataframe tbody tr th {\n",
              "        vertical-align: top;\n",
              "    }\n",
              "\n",
              "    .dataframe thead th {\n",
              "        text-align: right;\n",
              "    }\n",
              "</style>\n",
              "<table border=\"1\" class=\"dataframe\">\n",
              "  <thead>\n",
              "    <tr style=\"text-align: right;\">\n",
              "      <th></th>\n",
              "      <th>Perlombaan</th>\n",
              "      <th>a</th>\n",
              "      <th>b</th>\n",
              "    </tr>\n",
              "  </thead>\n",
              "  <tbody>\n",
              "    <tr>\n",
              "      <th>0</th>\n",
              "      <td>freestyle</td>\n",
              "      <td>Name         Time1         Time2      ...</td>\n",
              "      <td>Name         Time1         Time2   ...</td>\n",
              "    </tr>\n",
              "    <tr>\n",
              "      <th>1</th>\n",
              "      <td>freestyle</td>\n",
              "      <td>Name         Time1         Time2      ...</td>\n",
              "      <td>Name         Time1         Time2     ...</td>\n",
              "    </tr>\n",
              "    <tr>\n",
              "      <th>2</th>\n",
              "      <td>backstroke</td>\n",
              "      <td>Name         Time1         Time2    ...</td>\n",
              "      <td>Name         Time1         Time2       ...</td>\n",
              "    </tr>\n",
              "    <tr>\n",
              "      <th>3</th>\n",
              "      <td>backstroke</td>\n",
              "      <td>Name         Time1         Time2     ...</td>\n",
              "      <td>Name         Time1         Time2    ...</td>\n",
              "    </tr>\n",
              "    <tr>\n",
              "      <th>4</th>\n",
              "      <td>butterfly</td>\n",
              "      <td>[]</td>\n",
              "      <td>[]</td>\n",
              "    </tr>\n",
              "    <tr>\n",
              "      <th>5</th>\n",
              "      <td>butterfly</td>\n",
              "      <td>[]</td>\n",
              "      <td>[]</td>\n",
              "    </tr>\n",
              "    <tr>\n",
              "      <th>6</th>\n",
              "      <td>breaststroke</td>\n",
              "      <td>[]</td>\n",
              "      <td>[]</td>\n",
              "    </tr>\n",
              "    <tr>\n",
              "      <th>7</th>\n",
              "      <td>breaststroke</td>\n",
              "      <td>[]</td>\n",
              "      <td>[]</td>\n",
              "    </tr>\n",
              "  </tbody>\n",
              "</table>\n",
              "</div>\n",
              "      <button class=\"colab-df-convert\" onclick=\"convertToInteractive('df-cdca615e-3cd6-4019-8aea-5e13a23056ac')\"\n",
              "              title=\"Convert this dataframe to an interactive table.\"\n",
              "              style=\"display:none;\">\n",
              "        \n",
              "  <svg xmlns=\"http://www.w3.org/2000/svg\" height=\"24px\"viewBox=\"0 0 24 24\"\n",
              "       width=\"24px\">\n",
              "    <path d=\"M0 0h24v24H0V0z\" fill=\"none\"/>\n",
              "    <path d=\"M18.56 5.44l.94 2.06.94-2.06 2.06-.94-2.06-.94-.94-2.06-.94 2.06-2.06.94zm-11 1L8.5 8.5l.94-2.06 2.06-.94-2.06-.94L8.5 2.5l-.94 2.06-2.06.94zm10 10l.94 2.06.94-2.06 2.06-.94-2.06-.94-.94-2.06-.94 2.06-2.06.94z\"/><path d=\"M17.41 7.96l-1.37-1.37c-.4-.4-.92-.59-1.43-.59-.52 0-1.04.2-1.43.59L10.3 9.45l-7.72 7.72c-.78.78-.78 2.05 0 2.83L4 21.41c.39.39.9.59 1.41.59.51 0 1.02-.2 1.41-.59l7.78-7.78 2.81-2.81c.8-.78.8-2.07 0-2.86zM5.41 20L4 18.59l7.72-7.72 1.47 1.35L5.41 20z\"/>\n",
              "  </svg>\n",
              "      </button>\n",
              "      \n",
              "  <style>\n",
              "    .colab-df-container {\n",
              "      display:flex;\n",
              "      flex-wrap:wrap;\n",
              "      gap: 12px;\n",
              "    }\n",
              "\n",
              "    .colab-df-convert {\n",
              "      background-color: #E8F0FE;\n",
              "      border: none;\n",
              "      border-radius: 50%;\n",
              "      cursor: pointer;\n",
              "      display: none;\n",
              "      fill: #1967D2;\n",
              "      height: 32px;\n",
              "      padding: 0 0 0 0;\n",
              "      width: 32px;\n",
              "    }\n",
              "\n",
              "    .colab-df-convert:hover {\n",
              "      background-color: #E2EBFA;\n",
              "      box-shadow: 0px 1px 2px rgba(60, 64, 67, 0.3), 0px 1px 3px 1px rgba(60, 64, 67, 0.15);\n",
              "      fill: #174EA6;\n",
              "    }\n",
              "\n",
              "    [theme=dark] .colab-df-convert {\n",
              "      background-color: #3B4455;\n",
              "      fill: #D2E3FC;\n",
              "    }\n",
              "\n",
              "    [theme=dark] .colab-df-convert:hover {\n",
              "      background-color: #434B5C;\n",
              "      box-shadow: 0px 1px 3px 1px rgba(0, 0, 0, 0.15);\n",
              "      filter: drop-shadow(0px 1px 2px rgba(0, 0, 0, 0.3));\n",
              "      fill: #FFFFFF;\n",
              "    }\n",
              "  </style>\n",
              "\n",
              "      <script>\n",
              "        const buttonEl =\n",
              "          document.querySelector('#df-cdca615e-3cd6-4019-8aea-5e13a23056ac button.colab-df-convert');\n",
              "        buttonEl.style.display =\n",
              "          google.colab.kernel.accessAllowed ? 'block' : 'none';\n",
              "\n",
              "        async function convertToInteractive(key) {\n",
              "          const element = document.querySelector('#df-cdca615e-3cd6-4019-8aea-5e13a23056ac');\n",
              "          const dataTable =\n",
              "            await google.colab.kernel.invokeFunction('convertToInteractive',\n",
              "                                                     [key], {});\n",
              "          if (!dataTable) return;\n",
              "\n",
              "          const docLinkHtml = 'Like what you see? Visit the ' +\n",
              "            '<a target=\"_blank\" href=https://colab.research.google.com/notebooks/data_table.ipynb>data table notebook</a>'\n",
              "            + ' to learn more about interactive tables.';\n",
              "          element.innerHTML = '';\n",
              "          dataTable['output_type'] = 'display_data';\n",
              "          await google.colab.output.renderOutput(dataTable, element);\n",
              "          const docLink = document.createElement('div');\n",
              "          docLink.innerHTML = docLinkHtml;\n",
              "          element.appendChild(docLink);\n",
              "        }\n",
              "      </script>\n",
              "    </div>\n",
              "  </div>\n",
              "  "
            ]
          },
          "metadata": {},
          "execution_count": 36
        }
      ]
    },
    {
      "cell_type": "code",
      "source": [
        "#tim a\n",
        "print('\\t\\tA Relay Team:')\n",
        "print('Freestyle:\\n')\n",
        "print(freestyle_a.to_string(index=False))\n",
        "print()\n",
        "print('Backstroke:\\n')\n",
        "print(backstroke_a.to_string(index=False))\n",
        "print()\n",
        "print('Butterfly:\\n')\n",
        "print(butterfly_a.to_string(index=False))\n",
        "print()\n",
        "print('Breaststroke:\\n')\n",
        "print(breaststroke_a.to_string(index=False))"
      ],
      "metadata": {
        "colab": {
          "base_uri": "https://localhost:8080/"
        },
        "id": "qP-FqsaGvUBv",
        "outputId": "a717aa6d-db25-43b0-92a6-e5c26e7af2c5"
      },
      "execution_count": 37,
      "outputs": [
        {
          "output_type": "stream",
          "name": "stdout",
          "text": [
            "\t\tA Relay Team:\n",
            "Freestyle:\n",
            "\n",
            "  Name        Time1        Time2        Time3\n",
            "  Emma 00:33:630688 00:34:053622 00:34:184839\n",
            "Evelyn 00:34:131992 00:33:995315 00:34:460380\n",
            "Aubrey 00:34:431395 00:34:024280 00:33:705075\n",
            "Olivia 00:34:737073 00:33:899207 00:34:070490\n",
            "\n",
            "Backstroke:\n",
            "\n",
            "  Name        Time1        Time2        Time3\n",
            "Sophia 00:34:694401 00:33:935499 00:34:702772\n",
            " Grace 00:35:187208 00:35:211084 00:34:670441\n",
            "Sophia 00:36:983126 00:37:126089 00:37:776139\n",
            " Grace 00:37:052796 00:37:226639 00:36:860638\n",
            "\n",
            "Butterfly:\n",
            "\n",
            "    Name        Time1        Time2        Time3\n",
            "  Audrey 00:34:632121 00:34:585881 00:34:435631\n",
            "   Layla 00:36:471171 00:36:939733 00:35:994950\n",
            "Samantha 00:36:497323 00:36:673034 00:36:145255\n",
            "   Layla 00:36:592157 00:36:629977 00:35:872307\n",
            "\n",
            "Breaststroke:\n",
            "\n",
            "    Name        Time1        Time2        Time3\n",
            "Samantha 00:33:932013 00:34:387609 00:33:914880\n",
            "   Avery 00:34:887566 00:34:831212 00:34:117882\n",
            "   Layla 00:36:541725 00:36:579116 00:35:825589\n",
            "   Avery 00:36:542282 00:36:618501 00:36:303954\n"
          ]
        }
      ]
    },
    {
      "cell_type": "code",
      "source": [
        "#tim b\n",
        "print('Freestyle:\\n')\n",
        "print(freestyle_b.to_string(index=False))\n",
        "print()\n",
        "print('Backstroke:\\n')\n",
        "print(backstroke_b.to_string(index=False))\n",
        "print()\n",
        "print('Butterfly:\\n')\n",
        "print(butterfly_b.to_string(index=False))\n",
        "print()\n",
        "print('Breaststroke:\\n')\n",
        "print(breaststroke_b.to_string(index=False))\n",
        "print()"
      ],
      "metadata": {
        "colab": {
          "base_uri": "https://localhost:8080/"
        },
        "id": "vMTRE8eGvfP6",
        "outputId": "34214c55-fede-4ffa-995d-6171d0b1d082"
      },
      "execution_count": 38,
      "outputs": [
        {
          "output_type": "stream",
          "name": "stdout",
          "text": [
            "Freestyle:\n",
            "\n",
            "     Name        Time1        Time2        Time3\n",
            "   Aubrey 00:34:997399 00:34:950688 00:34:869864\n",
            "   Olivia 00:35:096363 00:34:962637 00:35:161438\n",
            "   Evelyn 00:35:173740 00:34:858299 00:34:268399\n",
            "Elizabeth 00:35:392487 00:35:635598 00:35:446756\n",
            "\n",
            "Backstroke:\n",
            "\n",
            "    Name        Time1        Time2        Time3\n",
            "Penelope 00:38:179888 00:38:265697 00:38:372162\n",
            "   Grace 00:38:526014 00:37:897478 00:38:415338\n",
            "  Sophia 00:38:898670 00:39:464062 00:39:136942\n",
            "  Sophia 00:38:905835 00:39:191657 00:39:305191\n",
            "\n",
            "Butterfly:\n",
            "\n",
            " Name        Time1        Time2        Time3\n",
            "Layla 00:36:657880 00:36:758012 00:36:936568\n",
            " Leah 00:36:938822 00:36:969931 00:36:172325\n",
            " Leah 00:36:989777 00:36:128169 00:36:442117\n",
            "Layla 00:37:115375 00:37:576848 00:37:293411\n",
            "\n",
            "Breaststroke:\n",
            "\n",
            "    Name        Time1        Time2        Time3\n",
            "   Layla 00:36:547569 00:36:330738 00:36:228880\n",
            "Samantha 00:36:560403 00:36:099040 00:36:482083\n",
            "     Zoe 00:37:353150 00:37:942152 00:37:001172\n",
            " Lillian 00:37:746822 00:38:313359 00:38:126114\n",
            "\n"
          ]
        }
      ]
    },
    {
      "cell_type": "markdown",
      "source": [],
      "metadata": {
        "id": "HDQu5Ixcoy3K"
      }
    },
    {
      "cell_type": "markdown",
      "source": [],
      "metadata": {
        "id": "SjQZ_tz1ot5N"
      }
    }
  ]
}