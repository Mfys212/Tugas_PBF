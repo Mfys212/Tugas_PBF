{
  "nbformat": 4,
  "nbformat_minor": 0,
  "metadata": {
    "colab": {
      "provenance": []
    },
    "kernelspec": {
      "name": "python3",
      "display_name": "Python 3"
    },
    "language_info": {
      "name": "python"
    }
  },
  "cells": [
    {
      "cell_type": "markdown",
      "source": [
        "# Kelompok 9:\n",
        "- 121450020 MARSHANDA PUTRI PRASETYA \n",
        "- 121450053 RAHMAT PUTRA AJI \n",
        "- 121450098 Muhammad Fathir Fadillah \n",
        "- 121450125 MIFTAHUL HUDA \n",
        "- 121450149 YOSIA LETARE BANUREA \n",
        "- 121450152 Lulu Christin Sihombing"
      ],
      "metadata": {
        "id": "ho6e5LPovlac"
      }
    },
    {
      "cell_type": "markdown",
      "source": [
        "Bangun array sederhana dari fungsi yang mengambil input tunggal dan mengembalikan input yang ditambahkan dengan angka. Fungsi dibangun di loop for di mana iterator i berjalan dari 0 hingga 3. Untuk masing-masing angka ini dibuat fungsi lambda yang menangkap i dan menambahkannya ke input fungsi. Baris terakhir memanggil fungsi lambda kedua dengan 3 sebagai parameter. Yang hasilnya adalah 4."
      ],
      "metadata": {
        "id": "CiSI5EDa_091"
      }
    },
    {
      "cell_type": "code",
      "execution_count": 1,
      "metadata": {
        "colab": {
          "base_uri": "https://localhost:8080/"
        },
        "id": "qXdqXWml_pXt",
        "outputId": "d3cfee24-7d3d-4f64-bf4a-49cf237dae5a"
      },
      "outputs": [
        {
          "output_type": "stream",
          "name": "stdout",
          "text": [
            "4\n"
          ]
        }
      ],
      "source": [
        "def tambah_angka(input):\n",
        "    array_fungsi = []\n",
        "    for i in range(0, 3):\n",
        "        array_fungsi.append(lambda x, y=i: x + y)\n",
        "    return array_fungsi\n",
        "\n",
        "hasil_array_fungsi = tambah_angka(1)\n",
        "\n",
        "hasil = hasil_array_fungsi[1](3)\n",
        "\n",
        "print(hasil)"
      ]
    },
    {
      "cell_type": "markdown",
      "source": [
        "Apa cara paling elegan untuk meyakinkan fungsi lambda untuk menangkap nilai i saat ini dengan cara yang tidak akan terpengaruh saat i mengubah nilainya?"
      ],
      "metadata": {
        "id": "Vv8KJOG7BZPT"
      }
    },
    {
      "cell_type": "code",
      "source": [
        "adders=[None, None, None, None]\n",
        "for i in [0,1,2,3]:\n",
        "    adders[i]=lambda a,i=i: i+a\n",
        "print( adders[1](3) )"
      ],
      "metadata": {
        "colab": {
          "base_uri": "https://localhost:8080/"
        },
        "id": "TglxXnj8BdkF",
        "outputId": "7339e4b3-847b-41c0-f4c3-c1061ad8b8a1"
      },
      "execution_count": 2,
      "outputs": [
        {
          "output_type": "stream",
          "name": "stdout",
          "text": [
            "4\n"
          ]
        }
      ]
    },
    {
      "cell_type": "markdown",
      "source": [
        "Dengan memberikan nilai default argumen (i=i)"
      ],
      "metadata": {
        "id": "mobjl1MZB9nr"
      }
    },
    {
      "cell_type": "markdown",
      "source": [
        "Lakukan experiment closure dengan dataset melalui github berikut= https://github.com/WilliamPythonDL/Closure_Experiment.git Diskusikan dengan kelompok anda, dan buatlah dengan dataset yang berbeda dan uji lah dengan closure experiment. Buatlah analisa setiap baris dan jelaskan insight yang anda dapat."
      ],
      "metadata": {
        "id": "7dBaext8Cijs"
      }
    },
    {
      "cell_type": "markdown",
      "source": [
        "Buatlah analisa closure versi anda, buatlah composition function (aljabar), partial application (aljabar) dan teknik currying"
      ],
      "metadata": {
        "id": "E-aDwzCtsMQz"
      }
    },
    {
      "cell_type": "code",
      "source": [
        "# experiment closure dengan dataset https://github.com/WilliamPythonDL/Closure_Experiment.git\n",
        "import pandas as pd\n",
        "\n",
        "def region_info():\n",
        "    df = pd.read_csv('https://raw.githubusercontent.com/WilliamPythonDL/Closure_Experiment/master/ClosureExperiment/china_region.csv')\n",
        "    \n",
        "    def get_info(code):\n",
        "        return df[df['code'] == code]\n",
        "    \n",
        "    return get_info\n",
        "Info = region_info()\n",
        "print(Info(110000))"
      ],
      "metadata": {
        "colab": {
          "base_uri": "https://localhost:8080/"
        },
        "id": "32mzMyXyC-G3",
        "outputId": "9fd47425-89e5-43ba-8f4d-735ad121d287"
      },
      "execution_count": 9,
      "outputs": [
        {
          "output_type": "stream",
          "name": "stdout",
          "text": [
            "     code region  is_province_code  leading_code province\n",
            "0  110000    北京市              True            11      北京市\n"
          ]
        }
      ]
    },
    {
      "cell_type": "code",
      "source": [
        "# dengan data baru\n",
        "from functools import *\n",
        "data = pd.read_csv('https://raw.githubusercontent.com/Mif212/dokumen/main/data_mhs.csv')\n",
        "\n",
        "# Composition Function\n",
        "def transform_data(df):\n",
        "    df = df.drop(columns=['tahun_akademik', 'nama_mk', 'kelas', 'sks_matkul', 'nilai_mutu', 'ips'])\n",
        "    df = df.rename(columns={'Nama': 'nama', 'NIM': 'nim', 'semester_mahasiswa': 'semester', 'IPK': 'ipk'})\n",
        "    return df\n",
        "\n",
        "data_transformed = transform_data(data)\n",
        "\n",
        "\n",
        "# Partial Application\n",
        "def filter_by_smt(df, semester):\n",
        "    return df[df['semester'] == semester]\n",
        "\n",
        "filter_9 = partial(filter_by_smt, semester=9)\n",
        "filter_10= partial(filter_by_smt, semester=10)\n",
        "\n",
        "data_9= filter_9(data_transformed)\n",
        "data_10 = filter_10(data_transformed)\n",
        "print(data_9)\n",
        "print(data_10)\n",
        "\n",
        "# Teknik Currying\n",
        "def filter_by_ipk(df):\n",
        "    def filter_ipk(ipk):\n",
        "        return df[df['ipk'] >= ipk]\n",
        "    return filter_ipk\n",
        "\n",
        "filter_ipk_lulus = filter_by_ipk(data_transformed)\n",
        "data_lulus = filter_ipk_lulus(3.0)\n",
        "data_lulus"
      ],
      "metadata": {
        "colab": {
          "base_uri": "https://localhost:8080/",
          "height": 930
        },
        "id": "xuckSQTnrLGI",
        "outputId": "8c68768e-8791-402e-c896-91355829332d"
      },
      "execution_count": 16,
      "outputs": [
        {
          "output_type": "stream",
          "name": "stdout",
          "text": [
            "              nim                              nama  semester   ipk\n",
            "0     D1041151001                  MUHAMMAD AFFANDI         9  3.83\n",
            "1     D1041151001                  MUHAMMAD AFFANDI         9  3.83\n",
            "2     D1041151001                  MUHAMMAD AFFANDI         9  3.83\n",
            "6     D1041151002         RAY PUTRA LEONARDO TOBING         9  3.39\n",
            "7     D1041151002         RAY PUTRA LEONARDO TOBING         9  3.39\n",
            "...           ...                               ...       ...   ...\n",
            "1961  D1042161047                   KHOLIZAR NAFIAN         9  3.45\n",
            "1976  D1042161048  SOPIA PRISKLIA  YULI  NAINGGOLAN         9  2.30\n",
            "1977  D1042161048  SOPIA PRISKLIA  YULI  NAINGGOLAN         9  2.30\n",
            "1978  D1042161048  SOPIA PRISKLIA  YULI  NAINGGOLAN         9  2.30\n",
            "1979  D1042161048  SOPIA PRISKLIA  YULI  NAINGGOLAN         9  2.30\n",
            "\n",
            "[465 rows x 4 columns]\n",
            "              nim                              nama  semester   ipk\n",
            "3     D1041151001                  MUHAMMAD AFFANDI        10  3.83\n",
            "8     D1041151002         RAY PUTRA LEONARDO TOBING        10  3.44\n",
            "9     D1041151002         RAY PUTRA LEONARDO TOBING        10  3.44\n",
            "14    D1041151003                    NURAINI AYUSRA        10  3.32\n",
            "19    D1041151005                     HENDRIKUS EKA        10  3.39\n",
            "...           ...                               ...       ...   ...\n",
            "1962  D1042161047                   KHOLIZAR NAFIAN        10  3.45\n",
            "1963  D1042161047                   KHOLIZAR NAFIAN        10  3.45\n",
            "1980  D1042161048  SOPIA PRISKLIA  YULI  NAINGGOLAN        10  2.30\n",
            "1981  D1042161048  SOPIA PRISKLIA  YULI  NAINGGOLAN        10  2.30\n",
            "1982  D1042161048  SOPIA PRISKLIA  YULI  NAINGGOLAN        10  2.30\n",
            "\n",
            "[354 rows x 4 columns]\n"
          ]
        },
        {
          "output_type": "execute_result",
          "data": {
            "text/plain": [
              "              nim                nama  semester   ipk\n",
              "0     D1041151001    MUHAMMAD AFFANDI         9  3.83\n",
              "1     D1041151001    MUHAMMAD AFFANDI         9  3.83\n",
              "2     D1041151001    MUHAMMAD AFFANDI         9  3.83\n",
              "3     D1041151001    MUHAMMAD AFFANDI        10  3.83\n",
              "4     D1041151001    MUHAMMAD AFFANDI        11  3.83\n",
              "...           ...                 ...       ...   ...\n",
              "8843  D1041201066  ROLIN HAQQIY TAQIY         2  3.23\n",
              "8844  D1041201066  ROLIN HAQQIY TAQIY         2  3.23\n",
              "8845  D1041201066  ROLIN HAQQIY TAQIY         2  3.23\n",
              "8846  D1041201066  ROLIN HAQQIY TAQIY         2  3.23\n",
              "8847  D1041201066  ROLIN HAQQIY TAQIY         2  3.23\n",
              "\n",
              "[7971 rows x 4 columns]"
            ],
            "text/html": [
              "\n",
              "  <div id=\"df-c48edaaf-961a-4982-af6b-9cbcd184416b\">\n",
              "    <div class=\"colab-df-container\">\n",
              "      <div>\n",
              "<style scoped>\n",
              "    .dataframe tbody tr th:only-of-type {\n",
              "        vertical-align: middle;\n",
              "    }\n",
              "\n",
              "    .dataframe tbody tr th {\n",
              "        vertical-align: top;\n",
              "    }\n",
              "\n",
              "    .dataframe thead th {\n",
              "        text-align: right;\n",
              "    }\n",
              "</style>\n",
              "<table border=\"1\" class=\"dataframe\">\n",
              "  <thead>\n",
              "    <tr style=\"text-align: right;\">\n",
              "      <th></th>\n",
              "      <th>nim</th>\n",
              "      <th>nama</th>\n",
              "      <th>semester</th>\n",
              "      <th>ipk</th>\n",
              "    </tr>\n",
              "  </thead>\n",
              "  <tbody>\n",
              "    <tr>\n",
              "      <th>0</th>\n",
              "      <td>D1041151001</td>\n",
              "      <td>MUHAMMAD AFFANDI</td>\n",
              "      <td>9</td>\n",
              "      <td>3.83</td>\n",
              "    </tr>\n",
              "    <tr>\n",
              "      <th>1</th>\n",
              "      <td>D1041151001</td>\n",
              "      <td>MUHAMMAD AFFANDI</td>\n",
              "      <td>9</td>\n",
              "      <td>3.83</td>\n",
              "    </tr>\n",
              "    <tr>\n",
              "      <th>2</th>\n",
              "      <td>D1041151001</td>\n",
              "      <td>MUHAMMAD AFFANDI</td>\n",
              "      <td>9</td>\n",
              "      <td>3.83</td>\n",
              "    </tr>\n",
              "    <tr>\n",
              "      <th>3</th>\n",
              "      <td>D1041151001</td>\n",
              "      <td>MUHAMMAD AFFANDI</td>\n",
              "      <td>10</td>\n",
              "      <td>3.83</td>\n",
              "    </tr>\n",
              "    <tr>\n",
              "      <th>4</th>\n",
              "      <td>D1041151001</td>\n",
              "      <td>MUHAMMAD AFFANDI</td>\n",
              "      <td>11</td>\n",
              "      <td>3.83</td>\n",
              "    </tr>\n",
              "    <tr>\n",
              "      <th>...</th>\n",
              "      <td>...</td>\n",
              "      <td>...</td>\n",
              "      <td>...</td>\n",
              "      <td>...</td>\n",
              "    </tr>\n",
              "    <tr>\n",
              "      <th>8843</th>\n",
              "      <td>D1041201066</td>\n",
              "      <td>ROLIN HAQQIY TAQIY</td>\n",
              "      <td>2</td>\n",
              "      <td>3.23</td>\n",
              "    </tr>\n",
              "    <tr>\n",
              "      <th>8844</th>\n",
              "      <td>D1041201066</td>\n",
              "      <td>ROLIN HAQQIY TAQIY</td>\n",
              "      <td>2</td>\n",
              "      <td>3.23</td>\n",
              "    </tr>\n",
              "    <tr>\n",
              "      <th>8845</th>\n",
              "      <td>D1041201066</td>\n",
              "      <td>ROLIN HAQQIY TAQIY</td>\n",
              "      <td>2</td>\n",
              "      <td>3.23</td>\n",
              "    </tr>\n",
              "    <tr>\n",
              "      <th>8846</th>\n",
              "      <td>D1041201066</td>\n",
              "      <td>ROLIN HAQQIY TAQIY</td>\n",
              "      <td>2</td>\n",
              "      <td>3.23</td>\n",
              "    </tr>\n",
              "    <tr>\n",
              "      <th>8847</th>\n",
              "      <td>D1041201066</td>\n",
              "      <td>ROLIN HAQQIY TAQIY</td>\n",
              "      <td>2</td>\n",
              "      <td>3.23</td>\n",
              "    </tr>\n",
              "  </tbody>\n",
              "</table>\n",
              "<p>7971 rows × 4 columns</p>\n",
              "</div>\n",
              "      <button class=\"colab-df-convert\" onclick=\"convertToInteractive('df-c48edaaf-961a-4982-af6b-9cbcd184416b')\"\n",
              "              title=\"Convert this dataframe to an interactive table.\"\n",
              "              style=\"display:none;\">\n",
              "        \n",
              "  <svg xmlns=\"http://www.w3.org/2000/svg\" height=\"24px\"viewBox=\"0 0 24 24\"\n",
              "       width=\"24px\">\n",
              "    <path d=\"M0 0h24v24H0V0z\" fill=\"none\"/>\n",
              "    <path d=\"M18.56 5.44l.94 2.06.94-2.06 2.06-.94-2.06-.94-.94-2.06-.94 2.06-2.06.94zm-11 1L8.5 8.5l.94-2.06 2.06-.94-2.06-.94L8.5 2.5l-.94 2.06-2.06.94zm10 10l.94 2.06.94-2.06 2.06-.94-2.06-.94-.94-2.06-.94 2.06-2.06.94z\"/><path d=\"M17.41 7.96l-1.37-1.37c-.4-.4-.92-.59-1.43-.59-.52 0-1.04.2-1.43.59L10.3 9.45l-7.72 7.72c-.78.78-.78 2.05 0 2.83L4 21.41c.39.39.9.59 1.41.59.51 0 1.02-.2 1.41-.59l7.78-7.78 2.81-2.81c.8-.78.8-2.07 0-2.86zM5.41 20L4 18.59l7.72-7.72 1.47 1.35L5.41 20z\"/>\n",
              "  </svg>\n",
              "      </button>\n",
              "      \n",
              "  <style>\n",
              "    .colab-df-container {\n",
              "      display:flex;\n",
              "      flex-wrap:wrap;\n",
              "      gap: 12px;\n",
              "    }\n",
              "\n",
              "    .colab-df-convert {\n",
              "      background-color: #E8F0FE;\n",
              "      border: none;\n",
              "      border-radius: 50%;\n",
              "      cursor: pointer;\n",
              "      display: none;\n",
              "      fill: #1967D2;\n",
              "      height: 32px;\n",
              "      padding: 0 0 0 0;\n",
              "      width: 32px;\n",
              "    }\n",
              "\n",
              "    .colab-df-convert:hover {\n",
              "      background-color: #E2EBFA;\n",
              "      box-shadow: 0px 1px 2px rgba(60, 64, 67, 0.3), 0px 1px 3px 1px rgba(60, 64, 67, 0.15);\n",
              "      fill: #174EA6;\n",
              "    }\n",
              "\n",
              "    [theme=dark] .colab-df-convert {\n",
              "      background-color: #3B4455;\n",
              "      fill: #D2E3FC;\n",
              "    }\n",
              "\n",
              "    [theme=dark] .colab-df-convert:hover {\n",
              "      background-color: #434B5C;\n",
              "      box-shadow: 0px 1px 3px 1px rgba(0, 0, 0, 0.15);\n",
              "      filter: drop-shadow(0px 1px 2px rgba(0, 0, 0, 0.3));\n",
              "      fill: #FFFFFF;\n",
              "    }\n",
              "  </style>\n",
              "\n",
              "      <script>\n",
              "        const buttonEl =\n",
              "          document.querySelector('#df-c48edaaf-961a-4982-af6b-9cbcd184416b button.colab-df-convert');\n",
              "        buttonEl.style.display =\n",
              "          google.colab.kernel.accessAllowed ? 'block' : 'none';\n",
              "\n",
              "        async function convertToInteractive(key) {\n",
              "          const element = document.querySelector('#df-c48edaaf-961a-4982-af6b-9cbcd184416b');\n",
              "          const dataTable =\n",
              "            await google.colab.kernel.invokeFunction('convertToInteractive',\n",
              "                                                     [key], {});\n",
              "          if (!dataTable) return;\n",
              "\n",
              "          const docLinkHtml = 'Like what you see? Visit the ' +\n",
              "            '<a target=\"_blank\" href=https://colab.research.google.com/notebooks/data_table.ipynb>data table notebook</a>'\n",
              "            + ' to learn more about interactive tables.';\n",
              "          element.innerHTML = '';\n",
              "          dataTable['output_type'] = 'display_data';\n",
              "          await google.colab.output.renderOutput(dataTable, element);\n",
              "          const docLink = document.createElement('div');\n",
              "          docLink.innerHTML = docLinkHtml;\n",
              "          element.appendChild(docLink);\n",
              "        }\n",
              "      </script>\n",
              "    </div>\n",
              "  </div>\n",
              "  "
            ]
          },
          "metadata": {},
          "execution_count": 16
        }
      ]
    },
    {
      "cell_type": "markdown",
      "source": [
        "### Analisa Closure:\n",
        "\n",
        "Dalam konsep closure, fungsi memiliki akses ke variabel di lingkungan yang di luar fungsi tersebut. Dalam contoh-contoh di atas, kita dapat melihat penggunaan closure dalam beberapa cara.\n",
        "\n",
        "Pada contoh penggunaan partial application, fungsi baru filter_by_smt dan fungsi baru filter_ipk memiliki akses ke variabel df yang merupakan data mahasiswa yang sudah diubah. Variabel ini diakses di luar fungsi tersebut namun tetap dapat digunakan di dalam fungsi tersebut.\n",
        "\n",
        "Pada contoh penggunaan teknik currying, fungsi baru filter_ipk juga memiliki akses ke variabel df yang merupakan data mahasiswa yang sudah diubah. Variabel ini diakses melalui fungsi yang sudah diubah filter_ipk(ipk) yang merupakan closure dari fungsi filter_by_ipk.\n",
        "\n",
        "### Insight yang Didapat:\n",
        "\n",
        "Dengan menggunakan konsep composition function, partial application, dan teknik currying, kita dapat melakukan transformasi data pada dataset mahasiswa secara modular dan terstruktur. Kita dapat dengan mudah membuat fungsi baru yang melakukan filter data mahasiswa berdasarkan semester atau IPK tertentu dengan cara yang lebih efisien.\n",
        "\n",
        "Selain itu, penggunaan konsep closure pada contoh-contoh di atas juga menunjukkan fleksibilitas dan kemampuan modularitas pada bahasa pemrograman Python. Dalam kasus yang lebih kompleks, penggunaan konsep closure dapat sangat berguna dalam menjaga kerapian dan keterbacaan kode."
      ],
      "metadata": {
        "id": "fLh29ePfu6AU"
      }
    }
  ]
}