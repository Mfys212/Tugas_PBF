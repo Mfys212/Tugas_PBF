{
  "nbformat": 4,
  "nbformat_minor": 0,
  "metadata": {
    "colab": {
      "provenance": []
    },
    "kernelspec": {
      "name": "python3",
      "display_name": "Python 3"
    },
    "language_info": {
      "name": "python"
    }
  },
  "cells": [
    {
      "cell_type": "markdown",
      "source": [
       
      ],
      "metadata": {
        "id": "GymGDYNZ_rnI"
      }
    },
    {
      "cell_type": "markdown",
      "source": [
      
      ],
      "metadata": {
        "id": "9rqlXhai_cJv"
      }
    },
    {
      "cell_type": "markdown",
      "source": [
        "# 1. Buatlah sebuah program dengan decorator:"
      ],
      "metadata": {
        "id": "T_G76gZg7LwM"
      }
    },
    {
      "cell_type": "markdown",
      "source": [
        "## A. Skrip pemrograman untuk menghitung waktu (buat dengan pie @timer) gunakan @functools.wraps"
      ],
      "metadata": {
        "id": "YzDBgvkV7Sxa"
      }
    },
    {
      "cell_type": "code",
      "execution_count": 34,
      "metadata": {
        "colab": {
          "base_uri": "https://localhost:8080/",
          "height": 54
        },
        "id": "vUVKVs-k6yOE",
        "outputId": "90edce09-23f9-442a-b4e7-9f69e161b9bd"
      },
      "outputs": [
        {
          "output_type": "stream",
          "name": "stdout",
          "text": [
            "Finished 'bisection' in 0.0001 secs\n"
          ]
        },
        {
          "output_type": "execute_result",
          "data": {
            "text/plain": [
              "'akar : 0.641185744504986'"
            ],
            "application/vnd.google.colaboratory.intrinsic+json": {
              "type": "string"
            }
          },
          "metadata": {},
          "execution_count": 34
        }
      ],
      "source": [
        "import time\n",
        "import functools\n",
        "\n",
        "def timer(func):\n",
        "  @functools.wraps(func)\n",
        "  def wrapper_timer(*args, **kwargs):\n",
        "    start_time = time.perf_counter()    # menghitung waktu awal\n",
        "    value = func(*args, **kwargs)\n",
        "    end_time = time.perf_counter()      # menghitung waktu akhir\n",
        "    run_time = end_time - start_time    # menghitung waktu total\n",
        "    print(f\"Finished {func.__name__!r} in {run_time:.4f} secs\")\n",
        "    return value\n",
        "  return wrapper_timer\n",
        "\n",
        "@timer\n",
        "# code yang ingin diukur waktu eksekusinya\n",
        "def bisection(f, x0, x1, tol):\n",
        "  while True:\n",
        "    x2 = (x0 + x1)/2\n",
        "    if f(x0)*f(x2) < 0:\n",
        "      x0 = x0\n",
        "      x1 = x2\n",
        "    elif f(x0)*f(x2) > 0:\n",
        "      x0 = x2\n",
        "      x1 = x1\n",
        "    elif f(x0)*f(x2) == 0 or abs(f(x2)) < tol:\n",
        "      return f\"akar : {x2}\"\n",
        "    x2 = (x0 + x1)/2\n",
        "\n",
        "f = lambda x : x-2**(-x)\n",
        "x0 = 0.2\n",
        "x1 = 0.9\n",
        "tol = 10**(-5)\n",
        "bisection(f, x0, x1, tol)"
      ]
    },
    {
      "cell_type": "markdown",
      "source": [
        "## B. Skrip pemrograman Debugging mode. (Tidak Boleh Menggunakan Package!!) Selesaikan debugging deret berikut:\n",
        "$$ e = \\sum \\limits^{\\infty}_{n=0} \\frac{1}{n!} = \\frac{1}{0!} + \\frac{1}{1!} + \\frac{1}{2!} +  ... = \\frac{1}{1} + \\frac{1}{1} + \\frac{1}{1\\times2} + ... $$"
      ],
      "metadata": {
        "id": "1uG-1agqBcMP"
      }
    },
    {
      "cell_type": "code",
      "source": [
        "def debug_mode(func):\n",
        "  def wrapper(*args, **kwargs):\n",
        "    print(f\"Entering {func.__name__} function\")\n",
        "    print(f\"Arguments: {args}, {kwargs}\")\n",
        "    result = func(*args, **kwargs)\n",
        "    print(f\"Exiting {func.__name__} function\")\n",
        "    return result\n",
        "  return wrapper\n",
        "\n",
        "@debug_mode\n",
        "def e(n):\n",
        "  e = 0\n",
        "  factorial = 1\n",
        "  for i in range(n):\n",
        "    e += 1 / factorial\n",
        "    factorial *= (i+1)\n",
        "  return e\n",
        "\n",
        "print(e(3))"
      ],
      "metadata": {
        "colab": {
          "base_uri": "https://localhost:8080/"
        },
        "id": "73SPj8nIE1OP",
        "outputId": "a596efe6-c763-4930-8de8-89674d797f04"
      },
      "execution_count": 35,
      "outputs": [
        {
          "output_type": "stream",
          "name": "stdout",
          "text": [
            "Entering e function\n",
            "Arguments: (3,), {}\n",
            "Exiting e function\n",
            "2.5\n"
          ]
        }
      ]
    },
    {
      "cell_type": "markdown",
      "source": [
        "# 2. Buatlah skrip pemrograman mengenkripsi sebuah pesan dengan memperhatikan Capital Words, buatlah log decorator dengan fungsi warp, kemudian hitunglah performa nya dengan time"
      ],
      "metadata": {
        "id": "XfEGLi53GWvo"
      }
    },
    {
      "cell_type": "code",
      "source": [
        "import time\n",
        "\n",
        "def log_time(func):\n",
        "    def wrapper(*args, **kwargs):\n",
        "        start_time = time.time()\n",
        "        result = func(*args, **kwargs)\n",
        "        end_time = time.time()\n",
        "        print(f\"Function {func.__name__} execution time: {end_time - start_time:.5f} seconds\")\n",
        "        return result\n",
        "    return wrapper\n",
        "\n",
        "@log_time\n",
        "def encrypt_message(message, key):\n",
        "    encrypted_message = \"\"\n",
        "    for i in range(len(message)):\n",
        "        char = message[i]\n",
        "        if char.isupper():\n",
        "            encrypted_message += chr((ord(char) + key - 65) % 26 + 65)\n",
        "        else:\n",
        "            encrypted_message += chr((ord(char) + key - 97) % 26 + 97)\n",
        "    return encrypted_message\n",
        "\n",
        "message = input(\"Input Message: \")\n",
        "key = 7\n",
        "\n",
        "encrypted_message = encrypt_message(message, key)\n",
        "print(f\"Encrypted message: {encrypted_message}\")"
      ],
      "metadata": {
        "colab": {
          "base_uri": "https://localhost:8080/"
        },
        "id": "JY7bCoQtHN_E",
        "outputId": "7a926807-6aa3-488b-aadd-8e2137c32dba"
      },
      "execution_count": 36,
      "outputs": [
        {
          "output_type": "stream",
          "name": "stdout",
          "text": [
            "Input Message: Puasa cuy\n",
            "Function encrypt_message execution time: 0.00001 seconds\n",
            "Encrypted message: Wbhzhujbf\n"
          ]
        }
      ]
    },
    {
      "cell_type": "markdown",
      "source": [
        "# 3. Buatlah Pemrograman penghitung kata dengan python decorator, dari sebuah Lirik lagu yang anda sukai"
      ],
      "metadata": {
        "id": "scwtEKKpIjAl"
      }
    },
    {
      "cell_type": "code",
      "source": [
        "def count_words(func):\n",
        "    def wrapper(*args, **kwargs):\n",
        "        lyrics = func(*args, **kwargs)\n",
        "        word_count = len(lyrics.split())\n",
        "        print(f\"Terdapat {word_count} kata pada lirik.\")\n",
        "    return wrapper\n",
        "\n",
        "@count_words\n",
        "def analyze_lyrics(lyrics):\n",
        "    return lyrics\n",
        "\n",
        "# Lirik lagu siksa kubur\n",
        "song_lyrics = \"\"\" Suara Rintihan Suara Tangisan\n",
        "Insan Yang Berdosa Hoooo...\n",
        "Didalam Kuburnya\n",
        "\n",
        "Menjalani Siksa Di Dalam Kuburnya\n",
        "Menjalani Siksa Hoooo Di Dalam Kuburnya\n",
        "\n",
        "Hancur Lebur Tulangnya\n",
        "Serta Hangus Tubuhnya\n",
        "Hancur Lebur Tulangnya\n",
        "Serta Hangus Tubuhnya\n",
        "\n",
        "Karena Dihimpit Bumi Dan Dibakar Api\n",
        "Karena Dihimpit Bumi Dan Dibakar Api\n",
        "\n",
        "Sebagai Balasan Hoooo Dosa Yang Dilakukan\n",
        "\n",
        "Insan Yang Berdosa Dimasa Hidupnya\n",
        "Menjalani Siksa Di Dalam Kuburnya \"\"\"\n",
        "\n",
        "analyze_lyrics(song_lyrics)"
      ],
      "metadata": {
        "colab": {
          "base_uri": "https://localhost:8080/"
        },
        "id": "wnI41lYDIwgj",
        "outputId": "a09e1027-7f91-4ae3-aef4-7547633f2b36"
      },
      "execution_count": 37,
      "outputs": [
        {
          "output_type": "stream",
          "name": "stdout",
          "text": [
            "Terdapat 61 kata pada lirik.\n"
          ]
        }
      ]
    }
  ]
}
